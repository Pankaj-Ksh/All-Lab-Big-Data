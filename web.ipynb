{
 "cells": [
  {
   "cell_type": "code",
   "execution_count": 1,
   "metadata": {},
   "outputs": [],
   "source": [
    "import requests\n",
    "\n",
    "from bs4 import BeautifulSoup"
   ]
  },
  {
   "cell_type": "code",
   "execution_count": 2,
   "metadata": {},
   "outputs": [],
   "source": [
    "site_url = \"https://www.flipkart.com/samsung-galaxy-f15-5g-groovy-violet-128-gb/product-reviews/itm3e7d6c7112d45?pid=MOBGYBAVW8HTJH4X&lid=LSTMOBGYBAVW8HTJH4X9VTKYN&marketplace=FLIPKART\""
   ]
  },
  {
   "cell_type": "code",
   "execution_count": 5,
   "metadata": {},
   "outputs": [],
   "source": [
    "def get_data(site_url):\n",
    "    res = requests.get(site_url, headers=({'Accept-Language' : 'en-US en;q=05'}))\n",
    "    return res.text"
   ]
  },
  {
   "cell_type": "code",
   "execution_count": 6,
   "metadata": {},
   "outputs": [],
   "source": [
    "def get_html(site_url):\n",
    "    data = get_data(site_url)\n",
    "    soup = BeautifulSoup(data, 'html.parser')\n",
    "    return soup"
   ]
  },
  {
   "cell_type": "code",
   "execution_count": 7,
   "metadata": {},
   "outputs": [],
   "source": [
    "soup = get_html(site_url)"
   ]
  },
  {
   "cell_type": "code",
   "execution_count": 8,
   "metadata": {},
   "outputs": [],
   "source": [
    "def get_Customer(soup):\n",
    "    data_string = \"\"\n",
    "    customer1 = []\n",
    "    customer2 = []\n",
    "    customer3 = []\n",
    "\n",
    "    for item in soup.find_all('p', class_=\"_2NsDsF AwS1CA\"):\n",
    "        data_string = item.get_text()\n",
    "        customer1.append(data_string)\n",
    "\n",
    "    data_string = \"\"\n",
    "\n",
    "    for item in soup.find_all('div', class_=\"XQDdHH Ga3i8K\"):\n",
    "            data_string = item.get_text()\n",
    "            customer2.append(data_string)\n",
    "\n",
    "    data_string = \"\"\n",
    "\n",
    "    for item in soup.find_all('p', class_=\"_2NsDsF\"):\n",
    "            data_string = item.get_text()\n",
    "            customer3.append(data_string)\n",
    "\n",
    "    data_string = \"\"\n",
    "\n",
    "    return customer1,customer2, customer3\n",
    "\n"
   ]
  },
  {
   "cell_type": "code",
   "execution_count": 9,
   "metadata": {},
   "outputs": [],
   "source": [
    "allReivew = get_Customer(soup)"
   ]
  },
  {
   "cell_type": "code",
   "execution_count": 10,
   "metadata": {},
   "outputs": [
    {
     "name": "stdout",
     "output_type": "stream",
     "text": [
      "['Shreyas Salunkhe', 'Flipkart Customer', 'Gaurav Kumar Rai', 'SUBHAJIT BERA', 'Vineet  Singh', 'Flipkart Customer', 'Rohan singh', 'Naveen Kumar Nadigotu', 'sai krishna behera', 'Yash  Goel ']\n"
     ]
    }
   ],
   "source": [
    "print(allReivew[0])"
   ]
  },
  {
   "cell_type": "code",
   "execution_count": 11,
   "metadata": {},
   "outputs": [
    {
     "name": "stdout",
     "output_type": "stream",
     "text": [
      "['4', '4', '4', '4', '5', '4', '5', '5', '5', '5']\n"
     ]
    }
   ],
   "source": [
    "print(allReivew[1])"
   ]
  },
  {
   "cell_type": "code",
   "execution_count": 12,
   "metadata": {},
   "outputs": [
    {
     "name": "stdout",
     "output_type": "stream",
     "text": [
      "['Shreyas Salunkhe', '1 month ago', 'Flipkart Customer', '1 month ago', 'Gaurav Kumar Rai', '1 month ago', 'SUBHAJIT BERA', '1 month ago', 'Vineet  Singh', '2 months ago', 'Flipkart Customer', '1 month ago', 'Rohan singh', '1 month ago', 'Naveen Kumar Nadigotu', '2 months ago', 'sai krishna behera', '1 month ago', 'Yash  Goel ', '1 month ago']\n"
     ]
    }
   ],
   "source": [
    "print(allReivew[2])"
   ]
  }
 ],
 "metadata": {
  "kernelspec": {
   "display_name": "Python 3",
   "language": "python",
   "name": "python3"
  },
  "language_info": {
   "codemirror_mode": {
    "name": "ipython",
    "version": 3
   },
   "file_extension": ".py",
   "mimetype": "text/x-python",
   "name": "python",
   "nbconvert_exporter": "python",
   "pygments_lexer": "ipython3",
   "version": "3.11.4"
  }
 },
 "nbformat": 4,
 "nbformat_minor": 2
}
